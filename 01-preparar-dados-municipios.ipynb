{
 "cells": [
  {
   "cell_type": "code",
   "execution_count": 1,
   "id": "4887385b",
   "metadata": {},
   "outputs": [],
   "source": [
    "import pandas as pd"
   ]
  },
  {
   "cell_type": "code",
   "execution_count": 4,
   "id": "31d4aca4",
   "metadata": {},
   "outputs": [
    {
     "name": "stdout",
     "output_type": "stream",
     "text": [
      "-rw-r--r-- 1 s033236209 domain users 195K jun  3 00:10 estimativa_dou_2023.csv\r\n"
     ]
    }
   ],
   "source": [
    "arq = \"estimativa_dou_2023.csv\"\n",
    "url = \"https://raw.githubusercontent.com/hjort/populacao-municipal/main/\" + arq\n",
    "\n",
    "!test -f $arq || wget -O $arq $url\n",
    "!ls -lah $arq"
   ]
  },
  {
   "cell_type": "code",
   "execution_count": 5,
   "id": "8883a12c",
   "metadata": {},
   "outputs": [
    {
     "name": "stdout",
     "output_type": "stream",
     "text": [
      "2023;RO;11;00015;Alta Floresta D'Oeste;21169\r\n",
      "2023;RO;11;00379;Alto Alegre dos Parecis;12898\r\n",
      "2023;RO;11;00403;Alto Paraíso;22826\r\n",
      "2023;RO;11;00346;Alvorada D'Oeste;12465\r\n",
      "2023;RO;11;00023;Ariquemes;112685\r\n",
      "2023;RO;11;00452;Buritis;41878\r\n",
      "2023;RO;11;00031;Cabixi;4539\r\n",
      "2023;RO;11;00601;Cacaulândia;6228\r\n",
      "2023;RO;11;00049;Cacoal;85343\r\n",
      "2023;RO;11;00700;Campo Novo de Rondônia;14326\r\n"
     ]
    }
   ],
   "source": [
    "!head $arq"
   ]
  },
  {
   "cell_type": "code",
   "execution_count": 23,
   "id": "5f920fb3",
   "metadata": {},
   "outputs": [
    {
     "data": {
      "text/html": [
       "<div>\n",
       "<style scoped>\n",
       "    .dataframe tbody tr th:only-of-type {\n",
       "        vertical-align: middle;\n",
       "    }\n",
       "\n",
       "    .dataframe tbody tr th {\n",
       "        vertical-align: top;\n",
       "    }\n",
       "\n",
       "    .dataframe thead th {\n",
       "        text-align: right;\n",
       "    }\n",
       "</style>\n",
       "<table border=\"1\" class=\"dataframe\">\n",
       "  <thead>\n",
       "    <tr style=\"text-align: right;\">\n",
       "      <th></th>\n",
       "      <th>ano</th>\n",
       "      <th>uf</th>\n",
       "      <th>cod1</th>\n",
       "      <th>cod2</th>\n",
       "      <th>nome</th>\n",
       "      <th>habitantes</th>\n",
       "    </tr>\n",
       "  </thead>\n",
       "  <tbody>\n",
       "    <tr>\n",
       "      <th>0</th>\n",
       "      <td>2023</td>\n",
       "      <td>RO</td>\n",
       "      <td>11</td>\n",
       "      <td>00015</td>\n",
       "      <td>Alta Floresta D'Oeste</td>\n",
       "      <td>21169</td>\n",
       "    </tr>\n",
       "    <tr>\n",
       "      <th>1</th>\n",
       "      <td>2023</td>\n",
       "      <td>RO</td>\n",
       "      <td>11</td>\n",
       "      <td>00379</td>\n",
       "      <td>Alto Alegre dos Parecis</td>\n",
       "      <td>12898</td>\n",
       "    </tr>\n",
       "    <tr>\n",
       "      <th>2</th>\n",
       "      <td>2023</td>\n",
       "      <td>RO</td>\n",
       "      <td>11</td>\n",
       "      <td>00403</td>\n",
       "      <td>Alto Paraíso</td>\n",
       "      <td>22826</td>\n",
       "    </tr>\n",
       "    <tr>\n",
       "      <th>3</th>\n",
       "      <td>2023</td>\n",
       "      <td>RO</td>\n",
       "      <td>11</td>\n",
       "      <td>00346</td>\n",
       "      <td>Alvorada D'Oeste</td>\n",
       "      <td>12465</td>\n",
       "    </tr>\n",
       "    <tr>\n",
       "      <th>4</th>\n",
       "      <td>2023</td>\n",
       "      <td>RO</td>\n",
       "      <td>11</td>\n",
       "      <td>00023</td>\n",
       "      <td>Ariquemes</td>\n",
       "      <td>112685</td>\n",
       "    </tr>\n",
       "    <tr>\n",
       "      <th>...</th>\n",
       "      <td>...</td>\n",
       "      <td>...</td>\n",
       "      <td>...</td>\n",
       "      <td>...</td>\n",
       "      <td>...</td>\n",
       "      <td>...</td>\n",
       "    </tr>\n",
       "    <tr>\n",
       "      <th>5565</th>\n",
       "      <td>2023</td>\n",
       "      <td>GO</td>\n",
       "      <td>52</td>\n",
       "      <td>22302</td>\n",
       "      <td>Vila Propício</td>\n",
       "      <td>6061</td>\n",
       "    </tr>\n",
       "    <tr>\n",
       "      <th>5566</th>\n",
       "      <td>2023</td>\n",
       "      <td>GO</td>\n",
       "      <td>52</td>\n",
       "      <td>00175</td>\n",
       "      <td>Água Fria de Goiás</td>\n",
       "      <td>5959</td>\n",
       "    </tr>\n",
       "    <tr>\n",
       "      <th>5567</th>\n",
       "      <td>2023</td>\n",
       "      <td>GO</td>\n",
       "      <td>52</td>\n",
       "      <td>00209</td>\n",
       "      <td>Água Limpa</td>\n",
       "      <td>1737</td>\n",
       "    </tr>\n",
       "    <tr>\n",
       "      <th>5568</th>\n",
       "      <td>2023</td>\n",
       "      <td>GO</td>\n",
       "      <td>52</td>\n",
       "      <td>00258</td>\n",
       "      <td>Águas Lindas de Goiás</td>\n",
       "      <td>235479</td>\n",
       "    </tr>\n",
       "    <tr>\n",
       "      <th>5569</th>\n",
       "      <td>2023</td>\n",
       "      <td>DF</td>\n",
       "      <td>53</td>\n",
       "      <td>00108</td>\n",
       "      <td>Brasília</td>\n",
       "      <td>3150481</td>\n",
       "    </tr>\n",
       "  </tbody>\n",
       "</table>\n",
       "<p>5570 rows × 6 columns</p>\n",
       "</div>"
      ],
      "text/plain": [
       "       ano  uf cod1   cod2                     nome  habitantes\n",
       "0     2023  RO   11  00015    Alta Floresta D'Oeste       21169\n",
       "1     2023  RO   11  00379  Alto Alegre dos Parecis       12898\n",
       "2     2023  RO   11  00403             Alto Paraíso       22826\n",
       "3     2023  RO   11  00346         Alvorada D'Oeste       12465\n",
       "4     2023  RO   11  00023                Ariquemes      112685\n",
       "...    ...  ..  ...    ...                      ...         ...\n",
       "5565  2023  GO   52  22302            Vila Propício        6061\n",
       "5566  2023  GO   52  00175       Água Fria de Goiás        5959\n",
       "5567  2023  GO   52  00209               Água Limpa        1737\n",
       "5568  2023  GO   52  00258    Águas Lindas de Goiás      235479\n",
       "5569  2023  DF   53  00108                 Brasília     3150481\n",
       "\n",
       "[5570 rows x 6 columns]"
      ]
     },
     "execution_count": 23,
     "metadata": {},
     "output_type": "execute_result"
    }
   ],
   "source": [
    "dfm = pd.read_csv(\n",
    "    arq, sep=';',\n",
    "    names=['ano', 'uf', 'cod1', 'cod2', 'nome', 'habitantes'],\n",
    "    dtype={'cod1': 'object', 'cod2': 'object'}\n",
    ")\n",
    "dfm"
   ]
  },
  {
   "cell_type": "code",
   "execution_count": 24,
   "id": "51184072",
   "metadata": {},
   "outputs": [
    {
     "data": {
      "text/html": [
       "<div>\n",
       "<style scoped>\n",
       "    .dataframe tbody tr th:only-of-type {\n",
       "        vertical-align: middle;\n",
       "    }\n",
       "\n",
       "    .dataframe tbody tr th {\n",
       "        vertical-align: top;\n",
       "    }\n",
       "\n",
       "    .dataframe thead th {\n",
       "        text-align: right;\n",
       "    }\n",
       "</style>\n",
       "<table border=\"1\" class=\"dataframe\">\n",
       "  <thead>\n",
       "    <tr style=\"text-align: right;\">\n",
       "      <th></th>\n",
       "      <th>uf</th>\n",
       "      <th>municipio</th>\n",
       "      <th>habitantes</th>\n",
       "    </tr>\n",
       "    <tr>\n",
       "      <th>codigo</th>\n",
       "      <th></th>\n",
       "      <th></th>\n",
       "      <th></th>\n",
       "    </tr>\n",
       "  </thead>\n",
       "  <tbody>\n",
       "    <tr>\n",
       "      <th>1100015</th>\n",
       "      <td>RO</td>\n",
       "      <td>Alta Floresta D'Oeste</td>\n",
       "      <td>21169</td>\n",
       "    </tr>\n",
       "    <tr>\n",
       "      <th>1100379</th>\n",
       "      <td>RO</td>\n",
       "      <td>Alto Alegre dos Parecis</td>\n",
       "      <td>12898</td>\n",
       "    </tr>\n",
       "    <tr>\n",
       "      <th>1100403</th>\n",
       "      <td>RO</td>\n",
       "      <td>Alto Paraíso</td>\n",
       "      <td>22826</td>\n",
       "    </tr>\n",
       "    <tr>\n",
       "      <th>1100346</th>\n",
       "      <td>RO</td>\n",
       "      <td>Alvorada D'Oeste</td>\n",
       "      <td>12465</td>\n",
       "    </tr>\n",
       "    <tr>\n",
       "      <th>1100023</th>\n",
       "      <td>RO</td>\n",
       "      <td>Ariquemes</td>\n",
       "      <td>112685</td>\n",
       "    </tr>\n",
       "    <tr>\n",
       "      <th>...</th>\n",
       "      <td>...</td>\n",
       "      <td>...</td>\n",
       "      <td>...</td>\n",
       "    </tr>\n",
       "    <tr>\n",
       "      <th>5222302</th>\n",
       "      <td>GO</td>\n",
       "      <td>Vila Propício</td>\n",
       "      <td>6061</td>\n",
       "    </tr>\n",
       "    <tr>\n",
       "      <th>5200175</th>\n",
       "      <td>GO</td>\n",
       "      <td>Água Fria de Goiás</td>\n",
       "      <td>5959</td>\n",
       "    </tr>\n",
       "    <tr>\n",
       "      <th>5200209</th>\n",
       "      <td>GO</td>\n",
       "      <td>Água Limpa</td>\n",
       "      <td>1737</td>\n",
       "    </tr>\n",
       "    <tr>\n",
       "      <th>5200258</th>\n",
       "      <td>GO</td>\n",
       "      <td>Águas Lindas de Goiás</td>\n",
       "      <td>235479</td>\n",
       "    </tr>\n",
       "    <tr>\n",
       "      <th>5300108</th>\n",
       "      <td>DF</td>\n",
       "      <td>Brasília</td>\n",
       "      <td>3150481</td>\n",
       "    </tr>\n",
       "  </tbody>\n",
       "</table>\n",
       "<p>5570 rows × 3 columns</p>\n",
       "</div>"
      ],
      "text/plain": [
       "         uf                municipio  habitantes\n",
       "codigo                                          \n",
       "1100015  RO    Alta Floresta D'Oeste       21169\n",
       "1100379  RO  Alto Alegre dos Parecis       12898\n",
       "1100403  RO             Alto Paraíso       22826\n",
       "1100346  RO         Alvorada D'Oeste       12465\n",
       "1100023  RO                Ariquemes      112685\n",
       "...      ..                      ...         ...\n",
       "5222302  GO            Vila Propício        6061\n",
       "5200175  GO       Água Fria de Goiás        5959\n",
       "5200209  GO               Água Limpa        1737\n",
       "5200258  GO    Águas Lindas de Goiás      235479\n",
       "5300108  DF                 Brasília     3150481\n",
       "\n",
       "[5570 rows x 3 columns]"
      ]
     },
     "execution_count": 24,
     "metadata": {},
     "output_type": "execute_result"
    }
   ],
   "source": [
    "dfm['codigo'] = dfm[['cod1', 'cod2']].apply(lambda x: int(x[0] + x[1]), axis=1)\n",
    "dfm.drop(['ano', 'cod1', 'cod2'], axis=1, inplace=True)\n",
    "dfm.rename({'nome': 'municipio'}, axis=1, inplace=True)\n",
    "dfm = dfm[['codigo', 'uf', 'municipio', 'habitantes']]\n",
    "dfm.set_index('codigo', inplace=True)\n",
    "dfm"
   ]
  },
  {
   "cell_type": "code",
   "execution_count": 25,
   "id": "0cf53261",
   "metadata": {},
   "outputs": [
    {
     "name": "stderr",
     "output_type": "stream",
     "text": [
      "/tmp/ipykernel_2849226/430074217.py:1: FutureWarning: The default value of regex will change from True to False in a future version. In addition, single character regular expressions will *not* be treated as literal strings when regex=True.\n",
      "  dfm.columns.str.upper().str.replace('-', '_').str.replace('.', '').str.replace(' ', '_')\n"
     ]
    },
    {
     "data": {
      "text/plain": [
       "Index(['UF', 'MUNICIPIO', 'HABITANTES'], dtype='object')"
      ]
     },
     "execution_count": 25,
     "metadata": {},
     "output_type": "execute_result"
    }
   ],
   "source": [
    "dfm.columns.str.upper().str.replace('-', '_').str.replace('.', '').str.replace(' ', '_')"
   ]
  },
  {
   "cell_type": "code",
   "execution_count": 26,
   "id": "67ac1d40",
   "metadata": {},
   "outputs": [
    {
     "data": {
      "text/plain": [
       "codigo\n",
       "1100015      ALTA FLORESTA D'OESTE\n",
       "1100379    ALTO ALEGRE DOS PARECIS\n",
       "1100403               ALTO PARAÍSO\n",
       "1100346           ALVORADA D'OESTE\n",
       "1100023                  ARIQUEMES\n",
       "                    ...           \n",
       "5222302              VILA PROPÍCIO\n",
       "5200175         ÁGUA FRIA DE GOIÁS\n",
       "5200209                 ÁGUA LIMPA\n",
       "5200258      ÁGUAS LINDAS DE GOIÁS\n",
       "5300108                   BRASÍLIA\n",
       "Name: municipio, Length: 5570, dtype: object"
      ]
     },
     "execution_count": 26,
     "metadata": {},
     "output_type": "execute_result"
    }
   ],
   "source": [
    "dfm['municipio'].apply(lambda x: x.upper())"
   ]
  },
  {
   "cell_type": "code",
   "execution_count": null,
   "id": "bcfd3852",
   "metadata": {},
   "outputs": [],
   "source": []
  }
 ],
 "metadata": {
  "kernelspec": {
   "display_name": "Python 3 (ipykernel)",
   "language": "python",
   "name": "python3"
  },
  "language_info": {
   "codemirror_mode": {
    "name": "ipython",
    "version": 3
   },
   "file_extension": ".py",
   "mimetype": "text/x-python",
   "name": "python",
   "nbconvert_exporter": "python",
   "pygments_lexer": "ipython3",
   "version": "3.10.9"
  }
 },
 "nbformat": 4,
 "nbformat_minor": 5
}
